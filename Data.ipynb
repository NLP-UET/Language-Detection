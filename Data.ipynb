{
  "nbformat": 4,
  "nbformat_minor": 0,
  "metadata": {
    "colab": {
      "provenance": []
    },
    "kernelspec": {
      "name": "python3",
      "display_name": "Python 3"
    },
    "language_info": {
      "name": "python"
    }
  },
  "cells": [
    {
      "cell_type": "code",
      "execution_count": 1,
      "metadata": {
        "colab": {
          "base_uri": "https://localhost:8080/"
        },
        "id": "bdSk9Png6kr_",
        "outputId": "2a4b7f02-0e43-4c14-9025-e7769cf8de14"
      },
      "outputs": [
        {
          "output_type": "stream",
          "name": "stdout",
          "text": [
            "Successfully created viet-lao.csv file!\n"
          ]
        }
      ],
      "source": [
        "import pandas as pd\n",
        "\n",
        "# Read file viet.txt\n",
        "with open('viet.txt', 'r', encoding='utf-8') as f:\n",
        "    viet_lines = f.readlines()\n",
        "\n",
        "# Read file lao.txt\n",
        "with open('lao.txt', 'r', encoding='utf-8') as f:\n",
        "    lao_lines = f.readlines()\n",
        "\n",
        "# Get the first 10000 sentences from each file\n",
        "viet_texts = [line.split('\\t')[1].strip() for line in viet_lines[:10000]]\n",
        "lao_texts = [line.split('\\t')[1].strip() for line in lao_lines[:10000]]\n",
        "\n",
        "# Create a list of Text and Language\n",
        "texts = viet_texts + lao_texts\n",
        "languages = ['Vietnamese'] * len(viet_texts) + ['Lao'] * len(lao_texts)\n",
        "\n",
        "# Create DataFrame\n",
        "df = pd.DataFrame({'Text': texts, 'Language': languages})\n",
        "\n",
        "# Save DataFrame as CSV file\n",
        "df.to_csv('viet-lao.csv', index=False, encoding='utf-8')\n",
        "\n",
        "print(\"Successfully created viet-lao.csv file!\")"
      ]
    }
  ]
}